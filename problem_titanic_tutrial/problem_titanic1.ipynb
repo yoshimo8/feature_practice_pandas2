{
 "cells": [
  {
   "cell_type": "markdown",
   "metadata": {},
   "source": [
    "# タイタニックチュートリアルを使った問題\n",
    "\n",
    "\n",
    "なぜ作ろうかと言う思いに至ったかというと、ただ「写経しても頭にはいんねー」と思い、「よし！問題を作ろう」と思ったわけなのです。\n",
    "これを何も見ずに作れるようになると次のレベルにステップアップできるはず！と思います。\n",
    "\n",
    " https://www.kaggle.com/startupsci/titanic-data-science-solutions　これを参考に問題を作ってみました。\n",
    "\n"
   ]
  },
  {
   "cell_type": "code",
   "execution_count": 1,
   "metadata": {
    "collapsed": true
   },
   "outputs": [],
   "source": [
    "import numpy as np\n",
    "import pandas as np\n",
    "import random as rnd\n",
    "import seaborn as sns\n",
    "import matplotlib.pyplot as plt\n",
    "%matplotlib inline"
   ]
  },
  {
   "cell_type": "markdown",
   "metadata": {},
   "source": [
    "### 問題1\n",
    "\n",
    "\n",
    "PandasのDataFrameでcsvファイルを読み込んでみましょう。\n",
    "\n",
    "基本`None`と書かれたところを埋めてください"
   ]
  },
  {
   "cell_type": "code",
   "execution_count": null,
   "metadata": {
    "collapsed": true
   },
   "outputs": [],
   "source": [
    "train_df =None\n",
    "test_df = None\n",
    "\n",
    "combine = [train_df, test_df]"
   ]
  },
  {
   "cell_type": "markdown",
   "metadata": {},
   "source": [
    "### 問題２\n",
    "\n",
    "どんなカラムがあるかを調べてみましょう。"
   ]
  },
  {
   "cell_type": "code",
   "execution_count": null,
   "metadata": {
    "collapsed": true
   },
   "outputs": [],
   "source": [
    "print(None)"
   ]
  },
  {
   "cell_type": "markdown",
   "metadata": {
    "collapsed": true
   },
   "source": [
    "### 問題3\n",
    "\n",
    "テストデータ、トレインデータの情報を調べてみましょう。"
   ]
  },
  {
   "cell_type": "code",
   "execution_count": null,
   "metadata": {
    "collapsed": true
   },
   "outputs": [],
   "source": [
    "# ここにコードを書いてね！"
   ]
  },
  {
   "cell_type": "markdown",
   "metadata": {
    "collapsed": true
   },
   "source": [
    "### 問題４\n",
    "\n",
    "describe()を使ってみましょう"
   ]
  },
  {
   "cell_type": "code",
   "execution_count": null,
   "metadata": {
    "collapsed": true
   },
   "outputs": [],
   "source": [
    "# ここにコードを書いてね"
   ]
  },
  {
   "cell_type": "markdown",
   "metadata": {},
   "source": [
    "### 問題5\n",
    "\n",
    "describe()に引数を与えて表示されなかったカラムも表示させてみよう。"
   ]
  },
  {
   "cell_type": "code",
   "execution_count": null,
   "metadata": {
    "collapsed": true
   },
   "outputs": [],
   "source": [
    "#ここにコードを書いてね"
   ]
  },
  {
   "cell_type": "markdown",
   "metadata": {},
   "source": [
    "### 問題6\n",
    "\n",
    "`Pclass`と`Survived`の関係性を表で表示させてみましょう。\n",
    "\n",
    "こんな感じ↓\n",
    "\n",
    "[![https://diveintocode.gyazo.com/fcd81f5d313fee89d88e6218308dc97b](https://t.gyazo.com/teams/diveintocode/fcd81f5d313fee89d88e6218308dc97b.png)](https://diveintocode.gyazo.com/fcd81f5d313fee89d88e6218308dc97b)"
   ]
  },
  {
   "cell_type": "code",
   "execution_count": null,
   "metadata": {
    "collapsed": true
   },
   "outputs": [],
   "source": [
    "# ヒントgroupby()やmean()を使ってみよう。"
   ]
  },
  {
   "cell_type": "markdown",
   "metadata": {},
   "source": [
    "### 問題7\n",
    "\n",
    "SexとSurvivedの関係性を表で表示させてみよう\n"
   ]
  },
  {
   "cell_type": "code",
   "execution_count": null,
   "metadata": {
    "collapsed": true
   },
   "outputs": [],
   "source": [
    "# ここにコードを書いてね"
   ]
  },
  {
   "cell_type": "markdown",
   "metadata": {},
   "source": [
    "### 問題8\n",
    "\n",
    "`SibSp`と`Sirvived`の関係性を表で表してみよう"
   ]
  },
  {
   "cell_type": "code",
   "execution_count": null,
   "metadata": {
    "collapsed": true
   },
   "outputs": [],
   "source": [
    "#ここにコードを書いてね"
   ]
  },
  {
   "cell_type": "markdown",
   "metadata": {},
   "source": [
    "### 問題９\n",
    "\n",
    "`Parch`と `Survived`の関係性を見てみましょう。"
   ]
  },
  {
   "cell_type": "code",
   "execution_count": null,
   "metadata": {
    "collapsed": true
   },
   "outputs": [],
   "source": [
    "# ここにコードを書いてね"
   ]
  },
  {
   "cell_type": "markdown",
   "metadata": {},
   "source": [
    "### 問題9\n",
    "\n",
    "`Age`と`Survived`のヒストグラムを書いてみよう。"
   ]
  },
  {
   "cell_type": "code",
   "execution_count": null,
   "metadata": {
    "collapsed": true
   },
   "outputs": [],
   "source": [
    "# ここにコードを書いてね"
   ]
  },
  {
   "cell_type": "markdown",
   "metadata": {},
   "source": [
    "### 問題10\n",
    "\n",
    "`Pclass`と`Survived`のヒストグラムを書いてみましょう。"
   ]
  },
  {
   "cell_type": "code",
   "execution_count": null,
   "metadata": {
    "collapsed": true
   },
   "outputs": [],
   "source": [
    "# ここにコードを書いてね"
   ]
  },
  {
   "cell_type": "markdown",
   "metadata": {},
   "source": [
    "### 問題１１\n",
    "\n",
    "`Embarked`と`Sex`と`Survied`の関係性をグラフで表してみましょう。\n",
    "\n",
    "[![https://diveintocode.gyazo.com/43a93394d76274dce126cca7147ef268](https://t.gyazo.com/teams/diveintocode/43a93394d76274dce126cca7147ef268.png)](https://diveintocode.gyazo.com/43a93394d76274dce126cca7147ef268)"
   ]
  },
  {
   "cell_type": "code",
   "execution_count": null,
   "metadata": {
    "collapsed": true
   },
   "outputs": [],
   "source": [
    "# ここにコードを書いてね"
   ]
  },
  {
   "cell_type": "markdown",
   "metadata": {},
   "source": [
    "###  問題１２\n",
    "\n",
    "`Embarked`と`Fare`と`Survied`の関係性をグラフで表してみましょう。\n",
    "\n",
    "例\n",
    "[![https://diveintocode.gyazo.com/159ba189282cfa9648b9267fd1b3a1e1](https://t.gyazo.com/teams/diveintocode/159ba189282cfa9648b9267fd1b3a1e1.png)](https://diveintocode.gyazo.com/159ba189282cfa9648b9267fd1b3a1e1)"
   ]
  },
  {
   "cell_type": "code",
   "execution_count": null,
   "metadata": {
    "collapsed": true
   },
   "outputs": [],
   "source": [
    "#ここにコードを書いてね"
   ]
  },
  {
   "cell_type": "markdown",
   "metadata": {
    "collapsed": true
   },
   "source": [
    "### 問題13\n",
    "\n",
    "`Ticket`,`Cabin`をDataframeから除外してみよう。除外したら変数combineに入れてね。(正解('After', (891, 10), (418, 9))\n"
   ]
  },
  {
   "cell_type": "code",
   "execution_count": null,
   "metadata": {
    "collapsed": true
   },
   "outputs": [],
   "source": [
    "train_df = None\n",
    "test_df = None\n",
    "combine = None\n",
    "\n",
    "print('after', train_df.shape, test_df.shape)"
   ]
  },
  {
   "cell_type": "markdown",
   "metadata": {
    "collapsed": true
   },
   "source": [
    "### 問題１４\n",
    "\n",
    "新しい特徴`Title`があるのでそれと'Sex'の関係性を見てみましょう。\n"
   ]
  },
  {
   "cell_type": "code",
   "execution_count": null,
   "metadata": {
    "collapsed": true
   },
   "outputs": [],
   "source": [
    "for dataset in combine:\n",
    "    dataset['Title'] = dataset.Name.str.extract(' ([A-Za-z]+)\\.', expand=False)\n",
    "\n",
    "#ここにコードを書いてね"
   ]
  },
  {
   "cell_type": "markdown",
   "metadata": {
    "collapsed": true
   },
   "source": [
    "### 問題15\n",
    "\n",
    "珍しい名前は全部`Rare`にしてるからこのコードを参考にして`Mlle`→`Miss`、`Ms`→`Miss`、`Mme`→`Mrs`に変更してね。\n",
    "\n",
    "そして`Title`と`Suvived`の関係性をみてみよう！\n",
    "\n",
    "    "
   ]
  },
  {
   "cell_type": "code",
   "execution_count": null,
   "metadata": {
    "collapsed": true
   },
   "outputs": [],
   "source": [
    "for dataset in combine:\n",
    "    dataset['Title'] = dataset['Title'].replace(['Lady', 'Countess','Capt', 'Col',\\\n",
    " \t'Don', 'Dr', 'Major', 'Rev', 'Sir', 'Jonkheer', 'Dona'], 'Rare')\n",
    "\n",
    "    #ここにコードを書いてね\n",
    "\n",
    "#ここにも書いてね\n",
    "    \n"
   ]
  },
  {
   "cell_type": "markdown",
   "metadata": {
    "collapsed": true
   },
   "source": [
    "### 問題16\n",
    "\n",
    "文字だと扱い難いから`Titleカラム`をMr→ 1, Miss→ 2, \"Mrs→ 3, \"Master→ 4, \"Rare→ 5に変更してみよう。欠損値は0をぶち込んで変更したDataFrameを表して確認してみよう。\n",
    "\n"
   ]
  },
  {
   "cell_type": "code",
   "execution_count": null,
   "metadata": {
    "collapsed": true
   },
   "outputs": [],
   "source": [
    "#ここにコードを書いてね"
   ]
  },
  {
   "cell_type": "markdown",
   "metadata": {},
   "source": [
    "### 問題17\n",
    "\n",
    "train_dfは`Name`と`Passengerld`のDataFrameのカラムを除外しましょう。test_dfは`Name`だけ除外してみましょう。"
   ]
  },
  {
   "cell_type": "code",
   "execution_count": null,
   "metadata": {
    "collapsed": true
   },
   "outputs": [],
   "source": [
    "train_df = None\n",
    "test_df = None\n",
    "combine = [train_df, test_df]\n",
    "train_df.shape, test_df.shape #理想 ((891, 9), (418, 9))"
   ]
  },
  {
   "cell_type": "markdown",
   "metadata": {},
   "source": [
    "### 問題18\n",
    "\n",
    "`Sex`カラムがstringなので数値にしてみましょう。Female=1 、male =0"
   ]
  },
  {
   "cell_type": "code",
   "execution_count": null,
   "metadata": {
    "collapsed": true
   },
   "outputs": [],
   "source": [
    "#ここにコードを書いてね\n",
    "\n",
    "train_df.head()"
   ]
  },
  {
   "cell_type": "markdown",
   "metadata": {},
   "source": [
    "### 問題19\n",
    "\n",
    "`Pclass`と`Sex`と`Age`の関係をグラフで表してみよう。\n",
    "例\n",
    "[![https://diveintocode.gyazo.com/cd01f1fb43372b31d01ecd1f5036eccf](https://t.gyazo.com/teams/diveintocode/cd01f1fb43372b31d01ecd1f5036eccf.png)](https://diveintocode.gyazo.com/cd01f1fb43372b31d01ecd1f5036eccf)"
   ]
  },
  {
   "cell_type": "code",
   "execution_count": null,
   "metadata": {
    "collapsed": true
   },
   "outputs": [],
   "source": [
    "#ここにコードを書いてね"
   ]
  },
  {
   "cell_type": "code",
   "execution_count": null,
   "metadata": {
    "collapsed": true
   },
   "outputs": [],
   "source": [
    "#難しそうだったので問題にしてません。\n",
    "for dataset in combine:\n",
    "    for i in range(0, 2):\n",
    "        for j in range(0, 3):\n",
    "            guess_df = dataset[(dataset['Sex'] == i) & \\\n",
    "                                  (dataset['Pclass'] == j+1)]['Age'].dropna()\n",
    "\n",
    "            # age_mean = guess_df.mean()\n",
    "            # age_std = guess_df.std()\n",
    "            # age_guess = rnd.uniform(age_mean - age_std, age_mean + age_std)\n",
    "\n",
    "            age_guess = guess_df.median()\n",
    "\n",
    "            # Convert random age float to nearest .5 age\n",
    "            guess_ages[i,j] = int( age_guess/0.5 + 0.5 ) * 0.5\n",
    "            \n",
    "    for i in range(0, 2):\n",
    "        for j in range(0, 3):\n",
    "            dataset.loc[ (dataset.Age.isnull()) & (dataset.Sex == i) & (dataset.Pclass == j+1),\\\n",
    "                    'Age'] = guess_ages[i,j]\n",
    "\n",
    "    dataset['Age'] = dataset['Age'].astype(int)\n",
    "\n",
    "train_df.head()\n",
    "\n"
   ]
  },
  {
   "cell_type": "markdown",
   "metadata": {},
   "source": [
    "### 　問題20\n",
    "\n",
    "`AgeBand`という新しいカラムを作成し、年齢階級と`Suvived`の関係性を表で表してみましょう。bins=5で作りましょう。"
   ]
  },
  {
   "cell_type": "code",
   "execution_count": null,
   "metadata": {
    "collapsed": true
   },
   "outputs": [],
   "source": [
    "#コードを書いてね"
   ]
  },
  {
   "cell_type": "markdown",
   "metadata": {},
   "source": [
    "### 問題２１\n",
    "\n",
    "`AgeBand`が１６歳以下なら0、１６〜３２なら１、32〜48なら２、48~64なら3、それ以上なら4というように`Age`カラムを変更してみましょう。"
   ]
  },
  {
   "cell_type": "code",
   "execution_count": null,
   "metadata": {
    "collapsed": true
   },
   "outputs": [],
   "source": [
    "#ここにコードを書いてね"
   ]
  },
  {
   "cell_type": "markdown",
   "metadata": {},
   "source": [
    "### 問題22 \n",
    "`AgeBand`カラムをDataFrameから消去しましょう。そして確認しましょう。"
   ]
  },
  {
   "cell_type": "code",
   "execution_count": 2,
   "metadata": {
    "collapsed": true
   },
   "outputs": [],
   "source": [
    "#ここにコードを書いてね"
   ]
  },
  {
   "cell_type": "markdown",
   "metadata": {},
   "source": [
    "### 問題23\n",
    "\n",
    "新しいカラム`FamilySize`を作ります。`Parch`と`SibSp`を足して最後に１も足して`FamilySize`を作ってみましょう。\n",
    "\n",
    "そして`FamilySize`と`Survived`の関係性を見てみましょう。"
   ]
  },
  {
   "cell_type": "code",
   "execution_count": null,
   "metadata": {
    "collapsed": true
   },
   "outputs": [],
   "source": [
    "#ここにコードを書いてね"
   ]
  },
  {
   "cell_type": "markdown",
   "metadata": {},
   "source": [
    "### 問題24\n",
    "\n",
    "新しいカラム`IsAlone`を作ります。`FimilySize`が１の場合`IsAlone`に代入し、それ以外は0を代入しましょう。"
   ]
  },
  {
   "cell_type": "code",
   "execution_count": null,
   "metadata": {
    "collapsed": true
   },
   "outputs": [],
   "source": [
    "#ここにコードを書いてね"
   ]
  },
  {
   "cell_type": "markdown",
   "metadata": {},
   "source": [
    "### 問題２５\n",
    "\n",
    "`Parch` ,`SibSp`,`FamilySize`をDataFrameから除外しましょう。"
   ]
  },
  {
   "cell_type": "code",
   "execution_count": null,
   "metadata": {
    "collapsed": true
   },
   "outputs": [],
   "source": [
    "#ここにコードを書いてね"
   ]
  },
  {
   "cell_type": "markdown",
   "metadata": {},
   "source": [
    "### 問題２５\n",
    "\n",
    "新しいカラム`Age*Class`を作ります。`Age`と`Pclass`かけたものを`Age*Class`に代入しましょう。\n",
    "\n",
    "そしてカラム`Age`、`Pclass`、`Age*Calss`のDataFrameを表示させてみましょう。"
   ]
  },
  {
   "cell_type": "code",
   "execution_count": null,
   "metadata": {
    "collapsed": true
   },
   "outputs": [],
   "source": [
    "#ここにコードを書いてね"
   ]
  },
  {
   "cell_type": "markdown",
   "metadata": {},
   "source": [
    "### 問題26\n",
    "\n",
    "`Embarked`の損失値はすべて`S`を代入しましょう。そして`Embarked`と`S`の関係性をみてみましょう。"
   ]
  },
  {
   "cell_type": "code",
   "execution_count": 4,
   "metadata": {
    "collapsed": true
   },
   "outputs": [],
   "source": [
    "#コードを書いてね"
   ]
  },
  {
   "cell_type": "markdown",
   "metadata": {},
   "source": [
    "### 問題27\n",
    "\n",
    "`Embarked`カラムをS→0,　C→1,　Q→2 へ変更しましょう。"
   ]
  },
  {
   "cell_type": "code",
   "execution_count": null,
   "metadata": {
    "collapsed": true
   },
   "outputs": [],
   "source": [
    "#コードを書いてね"
   ]
  },
  {
   "cell_type": "markdown",
   "metadata": {},
   "source": [
    "### 問題28\n",
    "\n",
    "test_dfの`Fare`カラムの損失値は`Fare`の損失値を除いた中央値をいれて表示させましょう。"
   ]
  },
  {
   "cell_type": "code",
   "execution_count": null,
   "metadata": {
    "collapsed": true
   },
   "outputs": [],
   "source": [
    "#コードを書いてね"
   ]
  },
  {
   "cell_type": "markdown",
   "metadata": {},
   "source": [
    "### 問題２９\n",
    "\n",
    "`Fare`を４つの値段帯に分けて、４つに分けた値段帯と`Survived`の関係性を見てみましょう。"
   ]
  },
  {
   "cell_type": "code",
   "execution_count": null,
   "metadata": {
    "collapsed": true
   },
   "outputs": [],
   "source": [
    "#コードを書いてね"
   ]
  },
  {
   "cell_type": "markdown",
   "metadata": {},
   "source": [
    "### 問題30\n",
    "\n",
    "`Fare`カラムの値が7.91以下なら0, 7.91〜14.454なら1, 14.454〜31なら2、31〜 512.329なら３に変更しましょう。"
   ]
  },
  {
   "cell_type": "code",
   "execution_count": null,
   "metadata": {
    "collapsed": true
   },
   "outputs": [],
   "source": [
    "# コードを書いてね"
   ]
  },
  {
   "cell_type": "markdown",
   "metadata": {},
   "source": [
    "これでデータの前処理が終わりましたのでばんばんいろんな分類器にデータをぶち込んでみてください。"
   ]
  },
  {
   "cell_type": "markdown",
   "metadata": {},
   "source": [
    "### 参照\n",
    "\n",
    "答えはほぼここですhttps://www.kaggle.com/startupsci/titanic-data-science-solutions"
   ]
  },
  {
   "cell_type": "code",
   "execution_count": null,
   "metadata": {
    "collapsed": true
   },
   "outputs": [],
   "source": []
  },
  {
   "cell_type": "code",
   "execution_count": null,
   "metadata": {
    "collapsed": true
   },
   "outputs": [],
   "source": []
  },
  {
   "cell_type": "code",
   "execution_count": null,
   "metadata": {
    "collapsed": true
   },
   "outputs": [],
   "source": []
  },
  {
   "cell_type": "code",
   "execution_count": null,
   "metadata": {
    "collapsed": true
   },
   "outputs": [],
   "source": []
  },
  {
   "cell_type": "code",
   "execution_count": null,
   "metadata": {
    "collapsed": true
   },
   "outputs": [],
   "source": []
  },
  {
   "cell_type": "code",
   "execution_count": null,
   "metadata": {
    "collapsed": true
   },
   "outputs": [],
   "source": []
  },
  {
   "cell_type": "code",
   "execution_count": null,
   "metadata": {
    "collapsed": true
   },
   "outputs": [],
   "source": []
  },
  {
   "cell_type": "code",
   "execution_count": null,
   "metadata": {
    "collapsed": true
   },
   "outputs": [],
   "source": []
  }
 ],
 "metadata": {
  "kernelspec": {
   "display_name": "Python 3",
   "language": "python",
   "name": "python3"
  },
  "language_info": {
   "codemirror_mode": {
    "name": "ipython",
    "version": 3
   },
   "file_extension": ".py",
   "mimetype": "text/x-python",
   "name": "python",
   "nbconvert_exporter": "python",
   "pygments_lexer": "ipython3",
   "version": "3.5.3"
  }
 },
 "nbformat": 4,
 "nbformat_minor": 0
}
